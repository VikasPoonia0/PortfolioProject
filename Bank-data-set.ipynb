{
 "cells": [
  {
   "cell_type": "code",
   "execution_count": 1,
   "id": "892109d7",
   "metadata": {},
   "outputs": [],
   "source": [
    "#import libraries\n",
    "import pandas as pd\n",
    "import numpy as np\n",
    "\n",
    "import matplotlib\n",
    "import matplotlib.pyplot as plt\n",
    "\n",
    "import seaborn as sns\n",
    "sns.set(style=\"whitegrid\", palette=\"muted\")\n"
   ]
  },
  {
   "cell_type": "code",
   "execution_count": 2,
   "id": "7066bee2",
   "metadata": {},
   "outputs": [
    {
     "name": "stdout",
     "output_type": "stream",
     "text": [
      "age: (numeric)\n",
      "job: type of job (categorical- \"admin.\",\"blue-collar\",\"entrepreneur\",\"housemaid\",\"management\",\"retired\",\"self-employed\",\"services\",\"student\",\"technician\",\"unemployed\",\"unknown\")\n",
      "marital: marital status (categorical- \"divorced\",\"married\",\"single\",\"unknown\"; note: \"divorced\" means divorced or widowed)\n",
      "education: (categorical- \"basic.4y\",\"basic.6y\",\"basic.9y\",\"high.school\",\"illiterate\",\"professional.course\",\"university.degree\",\"unknown\")\n",
      "default: has credit in default? (categorical- \"no\",\"yes\",\"unknown\")\n",
      "housing: has housing loan? (categorical- \"no\",\"yes\",\"unknown\")\n",
      "loan: has personal loan? (categorical- \"no\",\"yes\",\"unknown\")\n",
      "contact: contact communication type (categorical- \"cellular\",\"telephone\")\n",
      "month: last contact month of year (categorical- \"jan\", \"feb\", \"mar\", ..., \"nov\", \"dec\")\n",
      "day_of_week: last contact day of the week (categorical- \"mon\",\"tue\",\"wed\",\"thu\",\"fri\")\n",
      "duration: last contact duration, in seconds (numeric). Important note:  this attribute highly affects the output target (e.g., if duration=0 then y=\"no\"). Yet, the duration is not known before a call is performed. Also, after the end of the call y is obviously known. Thus, this input should only be included for benchmark purposes and should be discarded if the intention is to have a realistic predictive model.\n",
      "campaign: number of contacts performed during this campaign and for this client (numeric, includes last contact)\n",
      "pdays: number of days that passed by after the client was last contacted from a previous campaign (numeric; 999 means client was not previously contacted)\n",
      "previous: number of contacts performed before this campaign and for this client (numeric)\n",
      "poutcome: outcome of the previous marketing campaign (categorical- \"failure\",\"nonexistent\",\"success\")\n",
      "emp.var.rate: employment variation rate - quarterly indicator (numeric)\n",
      "cons.price.idx: consumer price index - monthly indicator (numeric)\n",
      "cons.conf.idx: consumer confidence index - monthly indicator (numeric)\n",
      "euribor3m: euribor 3 month rate - daily indicator (numeric)\n",
      "nr.employed: number of employees - quarterly indicator (numeric)\n",
      "y: has the client subscribed a term deposit? (binary- \"yes\",\"no\")\n"
     ]
    }
   ],
   "source": [
    "# reading the text file about the columns of the table\n",
    "#created a markdown for desctiption of the columns\n",
    "with open(r'C:\\Users\\Vikas\\Desktop\\bank-additional\\column-details.txt') as file:\n",
    "    content=file.readlines()\n",
    "for line in content:\n",
    "    print(line.strip())"
   ]
  },
  {
   "cell_type": "markdown",
   "id": "a02a37b7",
   "metadata": {},
   "source": [
    "|Feature|Description|\n",
    "|------|-------------|\n",
    "|age|(numeric)|\n",
    "|job|type of job (categorical- \"admin.\",\"blue-collar\",\"entrepreneur\",\"housemaid\",\"management\",\"retired\",\"self-employed\",\"services\",\"student\",\"technician\",\"unemployed\",\"unknown\")|\n",
    "|marital|marital status (categorical- \"divorced\",\"married\",\"single\",\"unknown\"; note: \"divorced\" means divorced or widowed)|\n",
    "|education|(categorical- \"basic.4y\",\"basic.6y\",\"basic.9y\",\"high.school\",\"illiterate\",\"professional.course\",\"university.degree\",\"unknown\")|\n",
    "|default|has credit in default? (categorical- \"no\",\"yes\",\"unknown\")|\n",
    "|housing|has housing loan? (categorical- \"no\",\"yes\",\"unknown\")|\n",
    "|loan|has personal loan? (categorical- \"no\",\"yes\",\"unknown\")|\n",
    "|contact|contact communication type (categorical- \"cellular\",\"telephone\")|\n",
    "|month|last contact month of year (categorical- \"jan\", \"feb\", \"mar\", ..., \"nov\", \"dec\")|\n",
    "|day_of_week|last contact day of the week (categorical- \"mon\",\"tue\",\"wed\",\"thu\",\"fri\")|\n",
    "|duration|last contact duration, in seconds (numeric). Important note:  this attribute highly affects the output target (e.g., if duration=0 then y=\"no\"). Yet, the duration is not known before a call is performed. Also, after the end of the call y is obviously known. Thus, this input should only be included for benchmark purposes and should be discarded if the intention is to have a realistic predictive model.|\n",
    "|campaign|number of contacts performed during this campaign and for this client (numeric, includes last contact)|\n",
    "|pdays|number of days that passed by after the client was last contacted from a previous campaign (numeric; 999 means client was not previously contacted)|\n",
    "|previous|number of contacts performed before this campaign and for this client (numeric)|\n",
    "|poutcome|outcome of the previous marketing campaign (categorical- \"failure\",\"nonexistent\",\"success\")|\n",
    "|emp.var.rate|employment variation rate - quarterly indicator (numeric)|\n",
    "|cons.price.idx|consumer price index - monthly indicator (numeric)|\n",
    "|cons.conf.idx|consumer confidence index - monthly indicator (numeric)|\n",
    "|euribor3m|euribor 3 month rate - daily indicator (numeric)|\n",
    "|nr.employed|number of employees - quarterly indicator (numeric)|\n",
    "|y|has the client subscribed a term deposit? (binary- \"yes\",\"no\")|"
   ]
  },
  {
   "cell_type": "code",
   "execution_count": 3,
   "id": "6cf4a66f",
   "metadata": {},
   "outputs": [],
   "source": [
    "#reading data\n",
    "\n",
    "df_bank = pd.read_csv(r'C:\\Users\\Vikas\\Desktop\\bank-additional\\bank-additional-full.csv', sep=\";\")"
   ]
  },
  {
   "cell_type": "code",
   "execution_count": 4,
   "id": "c4042560",
   "metadata": {},
   "outputs": [
    {
     "name": "stdout",
     "output_type": "stream",
     "text": [
      "<class 'pandas.core.frame.DataFrame'>\n",
      "RangeIndex: 41188 entries, 0 to 41187\n",
      "Data columns (total 21 columns):\n",
      " #   Column          Non-Null Count  Dtype  \n",
      "---  ------          --------------  -----  \n",
      " 0   age             41188 non-null  int64  \n",
      " 1   job             41188 non-null  object \n",
      " 2   marital         41188 non-null  object \n",
      " 3   education       41188 non-null  object \n",
      " 4   default         41188 non-null  object \n",
      " 5   housing         41188 non-null  object \n",
      " 6   loan            41188 non-null  object \n",
      " 7   contact         41188 non-null  object \n",
      " 8   month           41188 non-null  object \n",
      " 9   day_of_week     41188 non-null  object \n",
      " 10  duration        41188 non-null  int64  \n",
      " 11  campaign        41188 non-null  int64  \n",
      " 12  pdays           41188 non-null  int64  \n",
      " 13  previous        41188 non-null  int64  \n",
      " 14  poutcome        41188 non-null  object \n",
      " 15  emp.var.rate    41188 non-null  float64\n",
      " 16  cons.price.idx  41188 non-null  float64\n",
      " 17  cons.conf.idx   41188 non-null  float64\n",
      " 18  euribor3m       41188 non-null  float64\n",
      " 19  nr.employed     41188 non-null  float64\n",
      " 20  y               41188 non-null  object \n",
      "dtypes: float64(5), int64(5), object(11)\n",
      "memory usage: 6.6+ MB\n"
     ]
    },
    {
     "data": {
      "text/html": [
       "<div>\n",
       "<style scoped>\n",
       "    .dataframe tbody tr th:only-of-type {\n",
       "        vertical-align: middle;\n",
       "    }\n",
       "\n",
       "    .dataframe tbody tr th {\n",
       "        vertical-align: top;\n",
       "    }\n",
       "\n",
       "    .dataframe thead th {\n",
       "        text-align: right;\n",
       "    }\n",
       "</style>\n",
       "<table border=\"1\" class=\"dataframe\">\n",
       "  <thead>\n",
       "    <tr style=\"text-align: right;\">\n",
       "      <th></th>\n",
       "      <th>age</th>\n",
       "      <th>job</th>\n",
       "      <th>marital</th>\n",
       "      <th>education</th>\n",
       "      <th>default</th>\n",
       "      <th>housing</th>\n",
       "      <th>loan</th>\n",
       "      <th>contact</th>\n",
       "      <th>month</th>\n",
       "      <th>day_of_week</th>\n",
       "      <th>...</th>\n",
       "      <th>campaign</th>\n",
       "      <th>pdays</th>\n",
       "      <th>previous</th>\n",
       "      <th>poutcome</th>\n",
       "      <th>emp.var.rate</th>\n",
       "      <th>cons.price.idx</th>\n",
       "      <th>cons.conf.idx</th>\n",
       "      <th>euribor3m</th>\n",
       "      <th>nr.employed</th>\n",
       "      <th>y</th>\n",
       "    </tr>\n",
       "  </thead>\n",
       "  <tbody>\n",
       "    <tr>\n",
       "      <th>0</th>\n",
       "      <td>56</td>\n",
       "      <td>housemaid</td>\n",
       "      <td>married</td>\n",
       "      <td>basic.4y</td>\n",
       "      <td>no</td>\n",
       "      <td>no</td>\n",
       "      <td>no</td>\n",
       "      <td>telephone</td>\n",
       "      <td>may</td>\n",
       "      <td>mon</td>\n",
       "      <td>...</td>\n",
       "      <td>1</td>\n",
       "      <td>999</td>\n",
       "      <td>0</td>\n",
       "      <td>nonexistent</td>\n",
       "      <td>1.1</td>\n",
       "      <td>93.994</td>\n",
       "      <td>-36.4</td>\n",
       "      <td>4.857</td>\n",
       "      <td>5191.0</td>\n",
       "      <td>no</td>\n",
       "    </tr>\n",
       "    <tr>\n",
       "      <th>1</th>\n",
       "      <td>57</td>\n",
       "      <td>services</td>\n",
       "      <td>married</td>\n",
       "      <td>high.school</td>\n",
       "      <td>unknown</td>\n",
       "      <td>no</td>\n",
       "      <td>no</td>\n",
       "      <td>telephone</td>\n",
       "      <td>may</td>\n",
       "      <td>mon</td>\n",
       "      <td>...</td>\n",
       "      <td>1</td>\n",
       "      <td>999</td>\n",
       "      <td>0</td>\n",
       "      <td>nonexistent</td>\n",
       "      <td>1.1</td>\n",
       "      <td>93.994</td>\n",
       "      <td>-36.4</td>\n",
       "      <td>4.857</td>\n",
       "      <td>5191.0</td>\n",
       "      <td>no</td>\n",
       "    </tr>\n",
       "    <tr>\n",
       "      <th>2</th>\n",
       "      <td>37</td>\n",
       "      <td>services</td>\n",
       "      <td>married</td>\n",
       "      <td>high.school</td>\n",
       "      <td>no</td>\n",
       "      <td>yes</td>\n",
       "      <td>no</td>\n",
       "      <td>telephone</td>\n",
       "      <td>may</td>\n",
       "      <td>mon</td>\n",
       "      <td>...</td>\n",
       "      <td>1</td>\n",
       "      <td>999</td>\n",
       "      <td>0</td>\n",
       "      <td>nonexistent</td>\n",
       "      <td>1.1</td>\n",
       "      <td>93.994</td>\n",
       "      <td>-36.4</td>\n",
       "      <td>4.857</td>\n",
       "      <td>5191.0</td>\n",
       "      <td>no</td>\n",
       "    </tr>\n",
       "    <tr>\n",
       "      <th>3</th>\n",
       "      <td>40</td>\n",
       "      <td>admin.</td>\n",
       "      <td>married</td>\n",
       "      <td>basic.6y</td>\n",
       "      <td>no</td>\n",
       "      <td>no</td>\n",
       "      <td>no</td>\n",
       "      <td>telephone</td>\n",
       "      <td>may</td>\n",
       "      <td>mon</td>\n",
       "      <td>...</td>\n",
       "      <td>1</td>\n",
       "      <td>999</td>\n",
       "      <td>0</td>\n",
       "      <td>nonexistent</td>\n",
       "      <td>1.1</td>\n",
       "      <td>93.994</td>\n",
       "      <td>-36.4</td>\n",
       "      <td>4.857</td>\n",
       "      <td>5191.0</td>\n",
       "      <td>no</td>\n",
       "    </tr>\n",
       "    <tr>\n",
       "      <th>4</th>\n",
       "      <td>56</td>\n",
       "      <td>services</td>\n",
       "      <td>married</td>\n",
       "      <td>high.school</td>\n",
       "      <td>no</td>\n",
       "      <td>no</td>\n",
       "      <td>yes</td>\n",
       "      <td>telephone</td>\n",
       "      <td>may</td>\n",
       "      <td>mon</td>\n",
       "      <td>...</td>\n",
       "      <td>1</td>\n",
       "      <td>999</td>\n",
       "      <td>0</td>\n",
       "      <td>nonexistent</td>\n",
       "      <td>1.1</td>\n",
       "      <td>93.994</td>\n",
       "      <td>-36.4</td>\n",
       "      <td>4.857</td>\n",
       "      <td>5191.0</td>\n",
       "      <td>no</td>\n",
       "    </tr>\n",
       "  </tbody>\n",
       "</table>\n",
       "<p>5 rows × 21 columns</p>\n",
       "</div>"
      ],
      "text/plain": [
       "   age        job  marital    education  default housing loan    contact  \\\n",
       "0   56  housemaid  married     basic.4y       no      no   no  telephone   \n",
       "1   57   services  married  high.school  unknown      no   no  telephone   \n",
       "2   37   services  married  high.school       no     yes   no  telephone   \n",
       "3   40     admin.  married     basic.6y       no      no   no  telephone   \n",
       "4   56   services  married  high.school       no      no  yes  telephone   \n",
       "\n",
       "  month day_of_week  ...  campaign  pdays  previous     poutcome emp.var.rate  \\\n",
       "0   may         mon  ...         1    999         0  nonexistent          1.1   \n",
       "1   may         mon  ...         1    999         0  nonexistent          1.1   \n",
       "2   may         mon  ...         1    999         0  nonexistent          1.1   \n",
       "3   may         mon  ...         1    999         0  nonexistent          1.1   \n",
       "4   may         mon  ...         1    999         0  nonexistent          1.1   \n",
       "\n",
       "   cons.price.idx  cons.conf.idx  euribor3m  nr.employed   y  \n",
       "0          93.994          -36.4      4.857       5191.0  no  \n",
       "1          93.994          -36.4      4.857       5191.0  no  \n",
       "2          93.994          -36.4      4.857       5191.0  no  \n",
       "3          93.994          -36.4      4.857       5191.0  no  \n",
       "4          93.994          -36.4      4.857       5191.0  no  \n",
       "\n",
       "[5 rows x 21 columns]"
      ]
     },
     "execution_count": 4,
     "metadata": {},
     "output_type": "execute_result"
    }
   ],
   "source": [
    "#looking into the dataset\n",
    "df_bank.shape  # gives rows and columns\n",
    "df_bank.info()   # data types and mising values\n",
    "df_bank.describe()  # numeric summary\n",
    "df_bank.head()  # peek at the data"
   ]
  },
  {
   "cell_type": "code",
   "execution_count": 5,
   "id": "3c4da635",
   "metadata": {},
   "outputs": [
    {
     "data": {
      "text/plain": [
       "age               0\n",
       "job               0\n",
       "marital           0\n",
       "education         0\n",
       "default           0\n",
       "housing           0\n",
       "loan              0\n",
       "contact           0\n",
       "month             0\n",
       "day_of_week       0\n",
       "duration          0\n",
       "campaign          0\n",
       "pdays             0\n",
       "previous          0\n",
       "poutcome          0\n",
       "emp.var.rate      0\n",
       "cons.price.idx    0\n",
       "cons.conf.idx     0\n",
       "euribor3m         0\n",
       "nr.employed       0\n",
       "y                 0\n",
       "dtype: int64"
      ]
     },
     "execution_count": 5,
     "metadata": {},
     "output_type": "execute_result"
    }
   ],
   "source": [
    "# As there are no null values\n",
    "df_bank.isnull().sum()"
   ]
  },
  {
   "cell_type": "code",
   "execution_count": 6,
   "id": "73cd8523",
   "metadata": {},
   "outputs": [
    {
     "data": {
      "text/plain": [
       "admin.           10422\n",
       "blue-collar       9254\n",
       "technician        6743\n",
       "services          3969\n",
       "management        2924\n",
       "retired           1720\n",
       "entrepreneur      1456\n",
       "self-employed     1421\n",
       "housemaid         1060\n",
       "unemployed        1014\n",
       "student            875\n",
       "unknown            330\n",
       "Name: job, dtype: int64"
      ]
     },
     "execution_count": 6,
     "metadata": {},
     "output_type": "execute_result"
    }
   ],
   "source": [
    "# counting unique value of each job\n",
    "df_bank[\"job\"].value_counts()"
   ]
  },
  {
   "cell_type": "code",
   "execution_count": 7,
   "id": "36cb6d75",
   "metadata": {},
   "outputs": [
    {
     "data": {
      "text/plain": [
       "university.degree      12168\n",
       "high.school             9515\n",
       "basic.9y                6045\n",
       "professional.course     5243\n",
       "basic.4y                4176\n",
       "basic.6y                2292\n",
       "unknown                 1731\n",
       "illiterate                18\n",
       "Name: education, dtype: int64"
      ]
     },
     "execution_count": 7,
     "metadata": {},
     "output_type": "execute_result"
    }
   ],
   "source": [
    "# counting unique value of educattion\n",
    "df_bank[\"education\"].value_counts()"
   ]
  },
  {
   "cell_type": "code",
   "execution_count": 8,
   "id": "22c7e635",
   "metadata": {},
   "outputs": [
    {
     "data": {
      "image/png": "[encoded data removed]",
      "text/plain": [
       "<Figure size 864x576 with 1 Axes>"
      ]
     },
     "metadata": {},
     "output_type": "display_data"
    }
   ],
   "source": [
    "# plotting the countplot to see marital status have effect on subscription\n",
    "\n",
    "plt.figure(figsize=(12,8))\n",
    "sns.countplot(data=df_bank, x='marital', hue='y')\n",
    "\n",
    "plt.title(\"Marital status vs Term Deposit Subscription\")\n",
    "plt.xlabel(\"Marital status\")\n",
    "plt.ylabel(\"Count\")\n",
    "plt.legend(title=\"Subscribed\")\n",
    "plt.show()"
   ]
  },
  {
   "cell_type": "code",
   "execution_count": 9,
   "id": "741a1009",
   "metadata": {},
   "outputs": [],
   "source": [
    "#The majority of the contacted clients were married, but most of them declined the term deposit.\n",
    "#In contrast, single clients had a higher success rate relative to their total count. "
   ]
  },
  {
   "cell_type": "code",
   "execution_count": 10,
   "id": "fe0bfb79",
   "metadata": {},
   "outputs": [
    {
     "data": {
      "image/png": "[encoded data removed]",
      "text/plain": [
       "<Figure size 864x576 with 1 Axes>"
      ]
     },
     "metadata": {},
     "output_type": "display_data"
    }
   ],
   "source": [
    "# plotting the countplot to see education degree have effect on subscription\n",
    "\n",
    "plt.figure(figsize=(12,8))\n",
    "sns.countplot(data=df_bank, x='education', hue='y')\n",
    "\n",
    "plt.title(\"education vs Term Deposit Subscription\")\n",
    "plt.xlabel(\"education\")\n",
    "plt.ylabel(\"Count\")\n",
    "plt.legend(title=\"Subscribed\")\n",
    "plt.show()"
   ]
  },
  {
   "cell_type": "code",
   "execution_count": 11,
   "id": "79a0f871",
   "metadata": {},
   "outputs": [],
   "source": [
    "# Clients with \"high school and university degrees\" had \"the highest total number of subscriptions\", but also the most rejections.\n",
    "# This is expected, as they make up the largest portion of the dataset.\n",
    "# To measure effectiveness, the **subscription rate (%) within each education level** must be considered."
   ]
  },
  {
   "cell_type": "code",
   "execution_count": 12,
   "id": "a20209e1",
   "metadata": {},
   "outputs": [
    {
     "data": {
      "image/png": "[encoded data removed]",
      "text/plain": [
       "<Figure size 864x576 with 1 Axes>"
      ]
     },
     "metadata": {},
     "output_type": "display_data"
    }
   ],
   "source": [
    "# plotting the countplot to see job have effect on subscription\n",
    "\n",
    "plt.figure(figsize=(12,8))\n",
    "sns.countplot(data=df_bank, x='job', hue='y')\n",
    "\n",
    "plt.title(\"job vs Term Deposit Subscription\")\n",
    "plt.xlabel(\"job\")\n",
    "plt.ylabel(\"Count\")\n",
    "plt.legend(title=\"Subscribed\")\n",
    "plt.show()"
   ]
  },
  {
   "cell_type": "code",
   "execution_count": 13,
   "id": "474fa7a4",
   "metadata": {},
   "outputs": [],
   "source": [
    "# Most contacts were from admin., blue-collar, and technician roles, yet they had low subscription rates.\n",
    "#Students, retirees, and self-employed clients, while fewer in number, showed relatively better success rates.\n"
   ]
  },
  {
   "cell_type": "code",
   "execution_count": 15,
   "id": "8684bd84",
   "metadata": {},
   "outputs": [
    {
     "data": {
      "image/png": "[encoded data removed]",
      "text/plain": [
       "<Figure size 864x576 with 1 Axes>"
      ]
     },
     "metadata": {},
     "output_type": "display_data"
    }
   ],
   "source": [
    "# plotting the countplot to see housing loan have effect on subscription\n",
    "\n",
    "plt.figure(figsize=(12,8))\n",
    "sns.countplot(data=df_bank, x='housing', hue='y')\n",
    "\n",
    "plt.title(\"housing vs Term Deposit Subscription\")\n",
    "plt.xlabel(\"housing\")\n",
    "plt.ylabel(\"Count\")\n",
    "plt.legend(title=\"Subscribed\")\n",
    "plt.show()"
   ]
  },
  {
   "cell_type": "code",
   "execution_count": 20,
   "id": "213621bf",
   "metadata": {},
   "outputs": [
    {
     "data": {
      "text/html": [
       "<div>\n",
       "<style scoped>\n",
       "    .dataframe tbody tr th:only-of-type {\n",
       "        vertical-align: middle;\n",
       "    }\n",
       "\n",
       "    .dataframe tbody tr th {\n",
       "        vertical-align: top;\n",
       "    }\n",
       "\n",
       "    .dataframe thead th {\n",
       "        text-align: right;\n",
       "    }\n",
       "</style>\n",
       "<table border=\"1\" class=\"dataframe\">\n",
       "  <thead>\n",
       "    <tr style=\"text-align: right;\">\n",
       "      <th>y</th>\n",
       "      <th>no</th>\n",
       "      <th>yes</th>\n",
       "    </tr>\n",
       "    <tr>\n",
       "      <th>housing</th>\n",
       "      <th></th>\n",
       "      <th></th>\n",
       "    </tr>\n",
       "  </thead>\n",
       "  <tbody>\n",
       "    <tr>\n",
       "      <th>no</th>\n",
       "      <td>0.891204</td>\n",
       "      <td>0.108796</td>\n",
       "    </tr>\n",
       "    <tr>\n",
       "      <th>unknown</th>\n",
       "      <td>0.891919</td>\n",
       "      <td>0.108081</td>\n",
       "    </tr>\n",
       "    <tr>\n",
       "      <th>yes</th>\n",
       "      <td>0.883806</td>\n",
       "      <td>0.116194</td>\n",
       "    </tr>\n",
       "  </tbody>\n",
       "</table>\n",
       "</div>"
      ],
      "text/plain": [
       "y              no       yes\n",
       "housing                    \n",
       "no       0.891204  0.108796\n",
       "unknown  0.891919  0.108081\n",
       "yes      0.883806  0.116194"
      ]
     },
     "execution_count": 20,
     "metadata": {},
     "output_type": "execute_result"
    }
   ],
   "source": [
    "# finding conversion rate for more accurate results\n",
    "housing_conversion = df_bank.groupby('housing')['y'].value_counts(normalize=True).unstack()\n",
    "\n",
    "housing_conversion"
   ]
  },
  {
   "cell_type": "code",
   "execution_count": 21,
   "id": "49c5049b",
   "metadata": {},
   "outputs": [],
   "source": [
    "# Clients with a housing loan have a higher conversion rate than those without."
   ]
  },
  {
   "cell_type": "code",
   "execution_count": 22,
   "id": "0fa3e481",
   "metadata": {},
   "outputs": [
    {
     "data": {
      "image/png": "[encoded data removed]",
      "text/plain": [
       "<Figure size 864x576 with 1 Axes>"
      ]
     },
     "metadata": {},
     "output_type": "display_data"
    }
   ],
   "source": [
    "# plotting the countplot to see personal loan have effect on subscription\n",
    "\n",
    "plt.figure(figsize=(12,8))\n",
    "sns.countplot(data=df_bank, x='loan', hue='y')\n",
    "\n",
    "plt.title(\"loan vs Term Deposit Subscription\")\n",
    "plt.xlabel(\"loan\")\n",
    "plt.ylabel(\"Count\")\n",
    "plt.legend(title=\"Subscribed\")\n",
    "plt.show()"
   ]
  },
  {
   "cell_type": "code",
   "execution_count": 23,
   "id": "67472457",
   "metadata": {},
   "outputs": [
    {
     "data": {
      "text/html": [
       "<div>\n",
       "<style scoped>\n",
       "    .dataframe tbody tr th:only-of-type {\n",
       "        vertical-align: middle;\n",
       "    }\n",
       "\n",
       "    .dataframe tbody tr th {\n",
       "        vertical-align: top;\n",
       "    }\n",
       "\n",
       "    .dataframe thead th {\n",
       "        text-align: right;\n",
       "    }\n",
       "</style>\n",
       "<table border=\"1\" class=\"dataframe\">\n",
       "  <thead>\n",
       "    <tr style=\"text-align: right;\">\n",
       "      <th>y</th>\n",
       "      <th>no</th>\n",
       "      <th>yes</th>\n",
       "    </tr>\n",
       "    <tr>\n",
       "      <th>loan</th>\n",
       "      <th></th>\n",
       "      <th></th>\n",
       "    </tr>\n",
       "  </thead>\n",
       "  <tbody>\n",
       "    <tr>\n",
       "      <th>no</th>\n",
       "      <td>0.886598</td>\n",
       "      <td>0.113402</td>\n",
       "    </tr>\n",
       "    <tr>\n",
       "      <th>unknown</th>\n",
       "      <td>0.891919</td>\n",
       "      <td>0.108081</td>\n",
       "    </tr>\n",
       "    <tr>\n",
       "      <th>yes</th>\n",
       "      <td>0.890685</td>\n",
       "      <td>0.109315</td>\n",
       "    </tr>\n",
       "  </tbody>\n",
       "</table>\n",
       "</div>"
      ],
      "text/plain": [
       "y              no       yes\n",
       "loan                       \n",
       "no       0.886598  0.113402\n",
       "unknown  0.891919  0.108081\n",
       "yes      0.890685  0.109315"
      ]
     },
     "execution_count": 23,
     "metadata": {},
     "output_type": "execute_result"
    }
   ],
   "source": [
    "# finding conversion rate for more accurate results\n",
    "housing_conversion = df_bank.groupby('loan')['y'].value_counts(normalize=True).unstack()\n",
    "\n",
    "housing_conversion"
   ]
  },
  {
   "cell_type": "code",
   "execution_count": 24,
   "id": "da5b151c",
   "metadata": {},
   "outputs": [],
   "source": [
    "# Clients without an existing personal loan have a higher conversion rate than those who have one.\n",
    "# people with existing loan obligations may be more financially cautious and less inclined to invest in long-term products like term deposits."
   ]
  },
  {
   "cell_type": "code",
   "execution_count": 25,
   "id": "c3a18ae1",
   "metadata": {},
   "outputs": [
    {
     "data": {
      "image/png": "[encoded data removed]",
      "text/plain": [
       "<Figure size 864x576 with 1 Axes>"
      ]
     },
     "metadata": {},
     "output_type": "display_data"
    }
   ],
   "source": [
    "# plotting the countplot to see way of contact have effect on subscription\n",
    "\n",
    "plt.figure(figsize=(12,8))\n",
    "sns.countplot(data=df_bank, x='contact', hue='y')\n",
    "\n",
    "plt.title(\"contact vs Term Deposit Subscription\")\n",
    "plt.xlabel(\"contact\")\n",
    "plt.ylabel(\"Count\")\n",
    "plt.legend(title=\"Subscribed\")\n",
    "plt.show()"
   ]
  },
  {
   "cell_type": "code",
   "execution_count": 26,
   "id": "7c411893",
   "metadata": {},
   "outputs": [
    {
     "data": {
      "text/html": [
       "<div>\n",
       "<style scoped>\n",
       "    .dataframe tbody tr th:only-of-type {\n",
       "        vertical-align: middle;\n",
       "    }\n",
       "\n",
       "    .dataframe tbody tr th {\n",
       "        vertical-align: top;\n",
       "    }\n",
       "\n",
       "    .dataframe thead th {\n",
       "        text-align: right;\n",
       "    }\n",
       "</style>\n",
       "<table border=\"1\" class=\"dataframe\">\n",
       "  <thead>\n",
       "    <tr style=\"text-align: right;\">\n",
       "      <th>y</th>\n",
       "      <th>no</th>\n",
       "      <th>yes</th>\n",
       "    </tr>\n",
       "    <tr>\n",
       "      <th>contact</th>\n",
       "      <th></th>\n",
       "      <th></th>\n",
       "    </tr>\n",
       "  </thead>\n",
       "  <tbody>\n",
       "    <tr>\n",
       "      <th>cellular</th>\n",
       "      <td>0.852624</td>\n",
       "      <td>0.147376</td>\n",
       "    </tr>\n",
       "    <tr>\n",
       "      <th>telephone</th>\n",
       "      <td>0.947687</td>\n",
       "      <td>0.052313</td>\n",
       "    </tr>\n",
       "  </tbody>\n",
       "</table>\n",
       "</div>"
      ],
      "text/plain": [
       "y                no       yes\n",
       "contact                      \n",
       "cellular   0.852624  0.147376\n",
       "telephone  0.947687  0.052313"
      ]
     },
     "execution_count": 26,
     "metadata": {},
     "output_type": "execute_result"
    }
   ],
   "source": [
    "# finding conversion rate for more accurate results\n",
    "housing_conversion = df_bank.groupby('contact')['y'].value_counts(normalize=True).unstack()\n",
    "\n",
    "housing_conversion"
   ]
  },
  {
   "cell_type": "code",
   "execution_count": 27,
   "id": "40516b2b",
   "metadata": {},
   "outputs": [],
   "source": [
    "# The majority of contacts were made through cellular, and it also showed a higher conversion rate compared to telephone.\n",
    "# Future campaigns should focus on cellular contact.\n"
   ]
  },
  {
   "cell_type": "code",
   "execution_count": 34,
   "id": "375e4300",
   "metadata": {},
   "outputs": [],
   "source": [
    "month_order = ['mar', 'apr', 'may', 'jun', \n",
    "               'jul', 'aug', 'sep', 'oct', 'nov', 'dec']"
   ]
  },
  {
   "cell_type": "code",
   "execution_count": 36,
   "id": "616d77d9",
   "metadata": {},
   "outputs": [
    {
     "data": {
      "image/png": "[encoded data removed]",
      "text/plain": [
       "<Figure size 864x576 with 1 Axes>"
      ]
     },
     "metadata": {},
     "output_type": "display_data"
    }
   ],
   "source": [
    "# plotting the countplot to see month of contact have effect on subscription\n",
    "\n",
    "plt.figure(figsize=(12,8))\n",
    "sns.countplot(data=df_bank, x='month', hue='y', order=month_order)\n",
    "\n",
    "plt.title(\"month vs Term Deposit Subscription\")\n",
    "plt.xlabel(\"month\")\n",
    "plt.ylabel(\"Count\")\n",
    "plt.legend(title=\"Subscribed\")\n",
    "plt.show()"
   ]
  },
  {
   "cell_type": "code",
   "execution_count": 35,
   "id": "6d73273d",
   "metadata": {},
   "outputs": [
    {
     "data": {
      "text/html": [
       "<div>\n",
       "<style scoped>\n",
       "    .dataframe tbody tr th:only-of-type {\n",
       "        vertical-align: middle;\n",
       "    }\n",
       "\n",
       "    .dataframe tbody tr th {\n",
       "        vertical-align: top;\n",
       "    }\n",
       "\n",
       "    .dataframe thead th {\n",
       "        text-align: right;\n",
       "    }\n",
       "</style>\n",
       "<table border=\"1\" class=\"dataframe\">\n",
       "  <thead>\n",
       "    <tr style=\"text-align: right;\">\n",
       "      <th>y</th>\n",
       "      <th>no</th>\n",
       "      <th>yes</th>\n",
       "    </tr>\n",
       "    <tr>\n",
       "      <th>month</th>\n",
       "      <th></th>\n",
       "      <th></th>\n",
       "    </tr>\n",
       "  </thead>\n",
       "  <tbody>\n",
       "    <tr>\n",
       "      <th>mar</th>\n",
       "      <td>0.494505</td>\n",
       "      <td>0.505495</td>\n",
       "    </tr>\n",
       "    <tr>\n",
       "      <th>apr</th>\n",
       "      <td>0.795213</td>\n",
       "      <td>0.204787</td>\n",
       "    </tr>\n",
       "    <tr>\n",
       "      <th>may</th>\n",
       "      <td>0.935653</td>\n",
       "      <td>0.064347</td>\n",
       "    </tr>\n",
       "    <tr>\n",
       "      <th>jun</th>\n",
       "      <td>0.894885</td>\n",
       "      <td>0.105115</td>\n",
       "    </tr>\n",
       "    <tr>\n",
       "      <th>jul</th>\n",
       "      <td>0.909534</td>\n",
       "      <td>0.090466</td>\n",
       "    </tr>\n",
       "    <tr>\n",
       "      <th>aug</th>\n",
       "      <td>0.893979</td>\n",
       "      <td>0.106021</td>\n",
       "    </tr>\n",
       "    <tr>\n",
       "      <th>sep</th>\n",
       "      <td>0.550877</td>\n",
       "      <td>0.449123</td>\n",
       "    </tr>\n",
       "    <tr>\n",
       "      <th>oct</th>\n",
       "      <td>0.561281</td>\n",
       "      <td>0.438719</td>\n",
       "    </tr>\n",
       "    <tr>\n",
       "      <th>nov</th>\n",
       "      <td>0.898561</td>\n",
       "      <td>0.101439</td>\n",
       "    </tr>\n",
       "    <tr>\n",
       "      <th>dec</th>\n",
       "      <td>0.510989</td>\n",
       "      <td>0.489011</td>\n",
       "    </tr>\n",
       "  </tbody>\n",
       "</table>\n",
       "</div>"
      ],
      "text/plain": [
       "y            no       yes\n",
       "month                    \n",
       "mar    0.494505  0.505495\n",
       "apr    0.795213  0.204787\n",
       "may    0.935653  0.064347\n",
       "jun    0.894885  0.105115\n",
       "jul    0.909534  0.090466\n",
       "aug    0.893979  0.106021\n",
       "sep    0.550877  0.449123\n",
       "oct    0.561281  0.438719\n",
       "nov    0.898561  0.101439\n",
       "dec    0.510989  0.489011"
      ]
     },
     "execution_count": 35,
     "metadata": {},
     "output_type": "execute_result"
    }
   ],
   "source": [
    "# finding conversion rate for more accurate results\n",
    "housing_conversion = df_bank.groupby('month')['y'].value_counts(normalize=True).unstack()\n",
    "\n",
    "housing_conversion.reindex(month_order)"
   ]
  },
  {
   "cell_type": "code",
   "execution_count": 37,
   "id": "c9f4eed0",
   "metadata": {},
   "outputs": [],
   "source": [
    "# Clients are significantly more responsive during March, December, September, and October.\n",
    "# Possibly due to seasonal financial planning, bonuses, or end-of-quarter marketing efforts.\n",
    "# The bank should focus campaign efforts during high-performing months\n",
    "# and re-evaluate strategies in low-performing months like May and July."
   ]
  },
  {
   "cell_type": "code",
   "execution_count": 39,
   "id": "d1970918",
   "metadata": {},
   "outputs": [
    {
     "data": {
      "image/png": "[encoded data removed]",
      "text/plain": [
       "<Figure size 864x576 with 1 Axes>"
      ]
     },
     "metadata": {},
     "output_type": "display_data"
    }
   ],
   "source": [
    "# plotting the countplot to see previous outcome have effect on subscription\n",
    "\n",
    "plt.figure(figsize=(12,8))\n",
    "sns.countplot(data=df_bank, x='poutcome', hue='y')\n",
    "\n",
    "plt.title(\"poutcomevs Term Deposit Subscription\")\n",
    "plt.xlabel(\"poutcome\")\n",
    "plt.ylabel(\"Count\")\n",
    "plt.legend(title=\"Subscribed\")\n",
    "plt.show()"
   ]
  },
  {
   "cell_type": "code",
   "execution_count": 40,
   "id": "a9cc77c4",
   "metadata": {},
   "outputs": [
    {
     "data": {
      "text/html": [
       "<div>\n",
       "<style scoped>\n",
       "    .dataframe tbody tr th:only-of-type {\n",
       "        vertical-align: middle;\n",
       "    }\n",
       "\n",
       "    .dataframe tbody tr th {\n",
       "        vertical-align: top;\n",
       "    }\n",
       "\n",
       "    .dataframe thead th {\n",
       "        text-align: right;\n",
       "    }\n",
       "</style>\n",
       "<table border=\"1\" class=\"dataframe\">\n",
       "  <thead>\n",
       "    <tr style=\"text-align: right;\">\n",
       "      <th>y</th>\n",
       "      <th>no</th>\n",
       "      <th>yes</th>\n",
       "    </tr>\n",
       "    <tr>\n",
       "      <th>poutcome</th>\n",
       "      <th></th>\n",
       "      <th></th>\n",
       "    </tr>\n",
       "  </thead>\n",
       "  <tbody>\n",
       "    <tr>\n",
       "      <th>failure</th>\n",
       "      <td>0.857714</td>\n",
       "      <td>0.142286</td>\n",
       "    </tr>\n",
       "    <tr>\n",
       "      <th>nonexistent</th>\n",
       "      <td>0.911678</td>\n",
       "      <td>0.088322</td>\n",
       "    </tr>\n",
       "    <tr>\n",
       "      <th>success</th>\n",
       "      <td>0.348871</td>\n",
       "      <td>0.651129</td>\n",
       "    </tr>\n",
       "  </tbody>\n",
       "</table>\n",
       "</div>"
      ],
      "text/plain": [
       "y                  no       yes\n",
       "poutcome                       \n",
       "failure      0.857714  0.142286\n",
       "nonexistent  0.911678  0.088322\n",
       "success      0.348871  0.651129"
      ]
     },
     "execution_count": 40,
     "metadata": {},
     "output_type": "execute_result"
    }
   ],
   "source": [
    "# finding conversion rate for more accurate results\n",
    "housing_conversion = df_bank.groupby('poutcome')['y'].value_counts(normalize=True).unstack()\n",
    "\n",
    "housing_conversion"
   ]
  },
  {
   "cell_type": "code",
   "execution_count": 41,
   "id": "d3e55999",
   "metadata": {},
   "outputs": [],
   "source": [
    "# A successful outcome in a previous campaign is a strong predictor of future success.\n",
    "# The bank should prioritize re-targeting clients with past positive responses.\n",
    "# The bank should tailor strategies differently for those with no or negative history."
   ]
  },
  {
   "cell_type": "code",
   "execution_count": 46,
   "id": "c72e5c15",
   "metadata": {},
   "outputs": [],
   "source": [
    "#checking duplicates data and droping it\n",
    "df_bank.duplicated().sum()\n",
    "df_bank.drop_duplicates(inplace=True)"
   ]
  },
  {
   "cell_type": "code",
   "execution_count": 47,
   "id": "9e4ab969",
   "metadata": {},
   "outputs": [
    {
     "data": {
      "text/plain": [
       "admin.           10419\n",
       "blue-collar       9253\n",
       "technician        6739\n",
       "services          3967\n",
       "management        2924\n",
       "retired           1718\n",
       "entrepreneur      1456\n",
       "self-employed     1421\n",
       "housemaid         1060\n",
       "unemployed        1014\n",
       "student            875\n",
       "unknown            330\n",
       "Name: job, dtype: int64"
      ]
     },
     "execution_count": 47,
     "metadata": {},
     "output_type": "execute_result"
    }
   ],
   "source": [
    "# counting unique value of each job\n",
    "df_bank[\"job\"].value_counts()"
   ]
  },
  {
   "cell_type": "code",
   "execution_count": 79,
   "id": "82567c0a",
   "metadata": {},
   "outputs": [],
   "source": [
    "# unkown is about 0.8%, so, replacing it with admin (most frequent job).\n",
    "df_bank['job'] = df_bank['job'].replace('unknown', 'admin.')"
   ]
  },
  {
   "cell_type": "code",
   "execution_count": 65,
   "id": "112e017e",
   "metadata": {},
   "outputs": [],
   "source": [
    "# function to to check percentage of defaul and most frequent value of each category\n",
    "def col_unkown_check(df, column):\n",
    "    total_rows = len(df)\n",
    "    unknown_count = (df[column]=='unknown').sum()\n",
    "    percentage = unknown_count/total_rows*100\n",
    "    most_frequent = df[column].mode()[0]\n",
    "    print(f\"{column}, {unknown_count}, {percentage:.2f}%, {most_frequent}\")"
   ]
  },
  {
   "cell_type": "code",
   "execution_count": 66,
   "id": "6950925c",
   "metadata": {},
   "outputs": [
    {
     "name": "stdout",
     "output_type": "stream",
     "text": [
      "marital, 80, 0.19%, married\n",
      "education, 1730, 4.20%, university.degree\n",
      "default, 8596, 20.88%, no\n",
      "housing, 990, 2.40%, yes\n",
      "loan, 990, 2.40%, no\n"
     ]
    }
   ],
   "source": [
    "col_unkown_check(df_bank, 'marital')\n",
    "col_unkown_check(df_bank, 'education')\n",
    "col_unkown_check(df_bank, 'default')\n",
    "col_unkown_check(df_bank, 'housing')\n",
    "col_unkown_check(df_bank, 'loan')"
   ]
  },
  {
   "cell_type": "code",
   "execution_count": 67,
   "id": "f6b4c0fd",
   "metadata": {},
   "outputs": [],
   "source": [
    "# except default all are less than 5%, so replacing them with most frequent and keeping unkown in default"
   ]
  },
  {
   "cell_type": "code",
   "execution_count": 84,
   "id": "4fa0ae5d",
   "metadata": {},
   "outputs": [],
   "source": [
    "df_bank['marital'] = df_bank['marital'].replace('unknown', 'married')\n",
    "df_bank['education'] = df_bank['education'].replace('unknown', 'university.degree')\n",
    "df_bank['housing'] = df_bank['housing'].replace('unknown', 'yes')\n",
    "df_bank['loan'] = df_bank['loan'].replace('unknown', 'no')"
   ]
  },
  {
   "cell_type": "code",
   "execution_count": 91,
   "id": "e91255bf",
   "metadata": {},
   "outputs": [],
   "source": [
    "# grouping in education\n",
    "def simplify_education(edu):\n",
    "    if edu in ['illiterate', 'basic.4y', 'basic.6y', 'basic.9y']:\n",
    "        return 'basic'\n",
    "    elif edu == 'high.school':\n",
    "        return 'high.school'\n",
    "    elif edu == 'university.degree':\n",
    "        return 'university.degree'\n",
    "    elif edu == 'professional.course':\n",
    "        return 'professional.course'\n",
    "    else:\n",
    "        return edu \n",
    "    \n",
    "df_bank['education_grouped'] = df_bank['education'].apply(simplify_education)"
   ]
  },
  {
   "cell_type": "code",
   "execution_count": 94,
   "id": "1f6780e5",
   "metadata": {},
   "outputs": [],
   "source": [
    "# converting target variable \"yes\" to \"1\" and \"no\" to \"0\".\n",
    "df_bank['y']=df_bank['y'].map({'yes':1, 'no':0})"
   ]
  },
  {
   "cell_type": "code",
   "execution_count": 96,
   "id": "7190e4a6",
   "metadata": {},
   "outputs": [],
   "source": [
    "# creating a column as if contact before using pdays(if pdays=999, it means not contacted before)\n",
    "df_bank['contacted_before']=df_bank['pdays'].apply(lambda x: \"no\" if x==999 else \"yes\")"
   ]
  },
  {
   "cell_type": "code",
   "execution_count": 97,
   "id": "0fc737ab",
   "metadata": {},
   "outputs": [],
   "source": [
    "# age grouping\n",
    "bins = [0,20,30,40,50,60,100]\n",
    "labels = ['<20','20-30','30-40','40-50','50-60','60+']\n",
    "df_bank['age_group']=pd.cut(df_bank['age'], bins=bins, labels=labels)"
   ]
  },
  {
   "cell_type": "code",
   "execution_count": 99,
   "id": "c6253e52",
   "metadata": {},
   "outputs": [
    {
     "data": {
      "text/plain": [
       "0    35551\n",
       "1     4561\n",
       "2      754\n",
       "3      216\n",
       "4       70\n",
       "5       18\n",
       "6        5\n",
       "7        1\n",
       "Name: previous, dtype: int64"
      ]
     },
     "execution_count": 99,
     "metadata": {},
     "output_type": "execute_result"
    }
   ],
   "source": [
    "df_bank['previous'].value_counts()"
   ]
  },
  {
   "cell_type": "code",
   "execution_count": 101,
   "id": "3be21255",
   "metadata": {},
   "outputs": [],
   "source": [
    "#grouping number of times contacted\n",
    "def grouping(x):\n",
    "    if x==0:\n",
    "        return 'none'\n",
    "    elif x<=2:\n",
    "        return \"1-2\"\n",
    "    else:\n",
    "        return \"3+\"\n",
    "        \n",
    "\n",
    "df_bank[\"previous_contact_group\"]=df_bank['previous'].apply(grouping)"
   ]
  },
  {
   "cell_type": "code",
   "execution_count": 108,
   "id": "f39041b8",
   "metadata": {},
   "outputs": [
    {
     "name": "stdout",
     "output_type": "stream",
     "text": [
      "Chi-Square Test between 'contacted_before' and 'y'\n",
      "Chi-square Statistic: 4341.344316869189\n",
      "Degrees of Freedom: 1\n",
      "P-value: 0.0\n"
     ]
    }
   ],
   "source": [
    "# Now doing chi-square test between contacted before and taget variable y (as both are categorical)\n",
    "from scipy.stats import chi2_contingency  # importing chi2\n",
    "\n",
    "\n",
    "# creating contingency table\n",
    "contingency_table = pd.crosstab(df_bank['contacted_before'],df_bank['y'])\n",
    "\n",
    "#applying chi-square test\n",
    "chi2, p, dof, expected = chi2_contingency(contingency_table)\n",
    "\n",
    "print(\"Chi-Square Test between 'contacted_before' and 'y'\")\n",
    "print(\"Chi-square Statistic:\", chi2)\n",
    "print(\"Degrees of Freedom:\", dof)\n",
    "print(\"P-value:\", p)\n"
   ]
  },
  {
   "cell_type": "code",
   "execution_count": 109,
   "id": "beb0a786",
   "metadata": {},
   "outputs": [],
   "source": [
    "# as P-value = 0.0 <0.05, there is strong association between contacted before and target variable y.\n",
    "# Whether a person was contacted before does significantly influence whether they said \"yes\" to the campaign."
   ]
  },
  {
   "cell_type": "code",
   "execution_count": 111,
   "id": "556eee45",
   "metadata": {},
   "outputs": [
    {
     "data": {
      "text/plain": [
       "contacted_before\n",
       "no      9.258465\n",
       "yes    63.828383\n",
       "Name: y, dtype: float64"
      ]
     },
     "execution_count": 111,
     "metadata": {},
     "output_type": "execute_result"
    }
   ],
   "source": [
    "# conversion rate\n",
    "df_bank.groupby('contacted_before')['y'].mean()*100"
   ]
  },
  {
   "cell_type": "code",
   "execution_count": 112,
   "id": "b7864bb5",
   "metadata": {},
   "outputs": [],
   "source": [
    "# It shows about 9% who were not contacted before were converted.\n",
    "# Aroung 64% who were contacted before converted."
   ]
  },
  {
   "cell_type": "code",
   "execution_count": 138,
   "id": "7ad6a09d",
   "metadata": {},
   "outputs": [
    {
     "data": {
      "image/png": "[encoded data removed]",
      "text/plain": [
       "<Figure size 576x432 with 1 Axes>"
      ]
     },
     "metadata": {},
     "output_type": "display_data"
    }
   ],
   "source": [
    "#countplot\n",
    "plt.figure(figsize=(8,6))\n",
    "sns.countplot(data=df_bank, x='contacted_before', hue='y')\n",
    "plt.title(\"contacted before vs response\")\n",
    "plt.xlabel(\"contacted before\")\n",
    "plt.ylabel('count')\n",
    "plt.legend(title=\"Subscribed\")\n",
    "plt.show()"
   ]
  },
  {
   "cell_type": "code",
   "execution_count": 137,
   "id": "21404971",
   "metadata": {},
   "outputs": [
    {
     "data": {
      "image/png": "[encoded data removed]",
      "text/plain": [
       "<Figure size 576x432 with 1 Axes>"
      ]
     },
     "metadata": {},
     "output_type": "display_data"
    }
   ],
   "source": [
    "#converson rate plot\n",
    "\n",
    "plt.figure(figsize=(8,6))\n",
    "df_bank.groupby('contacted_before')['y'].mean().plot(kind='bar')\n",
    "plt.title(\"contacted before vs response\")\n",
    "plt.xlabel(\"contacted before\")\n",
    "plt.ylabel('conversion rate')\n",
    "plt.show()"
   ]
  },
  {
   "cell_type": "code",
   "execution_count": 121,
   "id": "02d24435",
   "metadata": {},
   "outputs": [
    {
     "name": "stdout",
     "output_type": "stream",
     "text": [
      "Chi-Square Test between 'age_group' and 'y'\n",
      "Chi-square Statistic: 1415.4375275641944\n",
      "Degrees of Freedom: 5\n",
      "P-value: 6.219008796458362e-304\n"
     ]
    }
   ],
   "source": [
    "# Now doing chi-square test between age group and taget variable y\n",
    "\n",
    "# creating contingency table\n",
    "contingency_table = pd.crosstab(df_bank['age_group'],df_bank['y'])\n",
    "\n",
    "# applying chi-square test\n",
    "chi2, p, dof, expected = chi2_contingency(contingency_table)\n",
    "\n",
    "print(\"Chi-Square Test between 'age_group' and 'y'\")\n",
    "print(\"Chi-square Statistic:\", chi2)\n",
    "print(\"Degrees of Freedom:\", dof)\n",
    "print(\"P-value:\", p)"
   ]
  },
  {
   "cell_type": "code",
   "execution_count": 115,
   "id": "906fb747",
   "metadata": {},
   "outputs": [],
   "source": [
    "# There is a strong and statistically significant association between age_group and whether a person said yes to the campaign."
   ]
  },
  {
   "cell_type": "code",
   "execution_count": 122,
   "id": "c07d23ae",
   "metadata": {},
   "outputs": [
    {
     "data": {
      "text/plain": [
       "age_group\n",
       "<20      40.714286\n",
       "20-30    14.735534\n",
       "30-40     9.749695\n",
       "40-50     8.166455\n",
       "50-60    10.655607\n",
       "60+      45.544554\n",
       "Name: y, dtype: float64"
      ]
     },
     "execution_count": 122,
     "metadata": {},
     "output_type": "execute_result"
    }
   ],
   "source": [
    "# conversion rate\n",
    "df_bank.groupby('age_group')['y'].mean()*100"
   ]
  },
  {
   "cell_type": "code",
   "execution_count": 117,
   "id": "7fee4538",
   "metadata": {},
   "outputs": [],
   "source": [
    "# People under 20 and over 60 have a high conversion rate.\n",
    "# People in age group 30-50 have very low conversion rate."
   ]
  },
  {
   "cell_type": "code",
   "execution_count": 142,
   "id": "6b39cae9",
   "metadata": {},
   "outputs": [
    {
     "data": {
      "image/png": "[encoded data removed]",
      "text/plain": [
       "<Figure size 576x432 with 1 Axes>"
      ]
     },
     "metadata": {},
     "output_type": "display_data"
    }
   ],
   "source": [
    "#countplot\n",
    "plt.figure(figsize=(8,6))\n",
    "sns.countplot(data=df_bank, x='age_group', hue='y')\n",
    "plt.title(\"age_group vs response\")\n",
    "plt.xlabel(\"age_group\")\n",
    "plt.ylabel('count')\n",
    "plt.legend(title=\"Subscribed\")\n",
    "plt.show()"
   ]
  },
  {
   "cell_type": "code",
   "execution_count": 140,
   "id": "3285cdf8",
   "metadata": {},
   "outputs": [
    {
     "data": {
      "image/png": "[encoded data removed]",
      "text/plain": [
       "<Figure size 576x432 with 1 Axes>"
      ]
     },
     "metadata": {},
     "output_type": "display_data"
    }
   ],
   "source": [
    "#converson rate plot\n",
    "\n",
    "plt.figure(figsize=(8,6))\n",
    "df_bank.groupby('age_group')['y'].mean().plot(kind='bar')\n",
    "plt.title(\"age_group vs response\")\n",
    "plt.xlabel(\"age_group\")\n",
    "plt.ylabel('conversion rate')\n",
    "plt.show()"
   ]
  },
  {
   "cell_type": "code",
   "execution_count": 123,
   "id": "440723ac",
   "metadata": {},
   "outputs": [
    {
     "name": "stdout",
     "output_type": "stream",
     "text": [
      "Chi-Square Test between 'previous_contact_group' and 'y'\n",
      "Chi-square Statistic: 1879.4123711429993\n",
      "Degrees of Freedom: 2\n",
      "P-value: 0.0\n"
     ]
    }
   ],
   "source": [
    "# Now doing chi-square test between how many times contacted before and taget variable y\n",
    "\n",
    "# creating contingency table\n",
    "contingency_table = pd.crosstab(df_bank['previous_contact_group'],df_bank['y'])\n",
    "\n",
    "# applying chi-square test\n",
    "chi2, p, dof, expected = chi2_contingency(contingency_table)\n",
    "\n",
    "print(\"Chi-Square Test between 'previous_contact_group' and 'y'\")\n",
    "print(\"Chi-square Statistic:\", chi2)\n",
    "print(\"Degrees of Freedom:\", dof)\n",
    "print(\"P-value:\", p)"
   ]
  },
  {
   "cell_type": "code",
   "execution_count": 124,
   "id": "c9bdf9ff",
   "metadata": {},
   "outputs": [],
   "source": [
    "# The number of previous contacts strongly affects whether a person says \"yes\"."
   ]
  },
  {
   "cell_type": "code",
   "execution_count": 125,
   "id": "d2aee9c7",
   "metadata": {},
   "outputs": [
    {
     "data": {
      "text/plain": [
       "previous_contact_group\n",
       "1-2     24.778928\n",
       "3+      58.709677\n",
       "none     8.832382\n",
       "Name: y, dtype: float64"
      ]
     },
     "execution_count": 125,
     "metadata": {},
     "output_type": "execute_result"
    }
   ],
   "source": [
    "# conversion rate\n",
    "df_bank.groupby('previous_contact_group')['y'].mean()*100"
   ]
  },
  {
   "cell_type": "code",
   "execution_count": 126,
   "id": "4cb6a115",
   "metadata": {},
   "outputs": [],
   "source": [
    "# There's a clear, strong upward trend: more previous contact = much higher chance of saying yes."
   ]
  },
  {
   "cell_type": "code",
   "execution_count": 143,
   "id": "3aab5db2",
   "metadata": {},
   "outputs": [
    {
     "data": {
      "image/png": "[encoded data removed]",
      "text/plain": [
       "<Figure size 576x432 with 1 Axes>"
      ]
     },
     "metadata": {},
     "output_type": "display_data"
    }
   ],
   "source": [
    "#countplot\n",
    "plt.figure(figsize=(8,6))\n",
    "sns.countplot(data=df_bank, x='previous_contact_group', hue='y')\n",
    "plt.title(\"previous_contact_group vs response\")\n",
    "plt.xlabel(\"previous_contact_group\")\n",
    "plt.ylabel('count')\n",
    "plt.legend(title=\"Subscribed\")\n",
    "plt.show()"
   ]
  },
  {
   "cell_type": "code",
   "execution_count": 144,
   "id": "00c7471e",
   "metadata": {},
   "outputs": [
    {
     "data": {
      "image/png": "[encoded data removed]",
      "text/plain": [
       "<Figure size 576x432 with 1 Axes>"
      ]
     },
     "metadata": {},
     "output_type": "display_data"
    }
   ],
   "source": [
    "#converson rate plot\n",
    "\n",
    "plt.figure(figsize=(8,6))\n",
    "df_bank.groupby('previous_contact_group')['y'].mean().plot(kind='bar')\n",
    "plt.title(\"previous_contact_group vs response\")\n",
    "plt.xlabel(\"previous_contact_group\")\n",
    "plt.ylabel('conversion rate')\n",
    "plt.show()"
   ]
  },
  {
   "cell_type": "markdown",
   "id": "ec867b45",
   "metadata": {},
   "source": [
    "**Objective**  \n",
    "Analyze a bank's direct marketing campaign data to uncover factors that influence client subscription to a term deposit.\n",
    "\n",
    "**Steps Taken\n",
    "\n",
    "**Data Cleaning\n",
    "\n",
    "-Removed duplicates and handled missing values (e.g., unknown job, education).\n",
    "-Dropped or excluded duration due to data leakage.\n",
    "\n",
    "**Exploratory Data Analysis (EDA)\n",
    "\n",
    "-Created countplots and calculated conversion rates for key categorical variables (job, education, marital, housing, etc.).\n",
    "-Identified trends:\n",
    "       Highest number of “yes” responses came from clients with high school and university education.\n",
    "       Blue-collar and admin jobs had low conversion rates.\n",
    "       Contact via cellular was more successful than telephone.\n",
    "\n",
    "**Statistical Analysis\n",
    "\n",
    "-Performed chi-square tests between categorical features and the target (y).\n",
    "-Found statistically significant relationships for variables like contact, previous, and poutcome.\n",
    "\n",
    "**Insights\n",
    "\n",
    "-Clients who were contacted previously and had a successful outcome (poutcome = success) showed much higher conversion rates.\n",
    "-Conversion rates are higher for clients contacted via cellular, and those who were previously contacted more than 2 times.\n",
    "-Features such as job, education, and marital status have influence, but less significant than prior contact data."
   ]
  }
 ],
 "metadata": {
  "kernelspec": {
   "display_name": "Python 3 (ipykernel)",
   "language": "python",
   "name": "python3"
  },
  "language_info": {
   "codemirror_mode": {
    "name": "ipython",
    "version": 3
   },
   "file_extension": ".py",
   "mimetype": "text/x-python",
   "name": "python",
   "nbconvert_exporter": "python",
   "pygments_lexer": "ipython3",
   "version": "3.8.19"
  }
 },
 "nbformat": 4,
 "nbformat_minor": 5
}
